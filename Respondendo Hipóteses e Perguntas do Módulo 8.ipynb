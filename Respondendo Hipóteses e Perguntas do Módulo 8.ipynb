{
 "cells": [
  {
   "cell_type": "code",
   "execution_count": 2,
   "id": "bded1c5f",
   "metadata": {},
   "outputs": [],
   "source": [
    "import pandas as pd\n",
    "import numpy as np\n",
    "\n",
    "data= pd.read_csv('dataset/kc_house_data.csv')"
   ]
  },
  {
   "cell_type": "markdown",
   "id": "4047de2b",
   "metadata": {
    "collapsed": true
   },
   "source": [
    "# QUAIS IMÓVEIS DEVE-SE COMPRAR?̣ "
   ]
  },
  {
   "cell_type": "code",
   "execution_count": 151,
   "id": "be3486c9",
   "metadata": {
    "scrolled": true
   },
   "outputs": [
    {
     "data": {
      "text/html": [
       "<div>\n",
       "<style scoped>\n",
       "    .dataframe tbody tr th:only-of-type {\n",
       "        vertical-align: middle;\n",
       "    }\n",
       "\n",
       "    .dataframe tbody tr th {\n",
       "        vertical-align: top;\n",
       "    }\n",
       "\n",
       "    .dataframe thead th {\n",
       "        text-align: right;\n",
       "    }\n",
       "</style>\n",
       "<table border=\"1\" class=\"dataframe\">\n",
       "  <thead>\n",
       "    <tr style=\"text-align: right;\">\n",
       "      <th></th>\n",
       "      <th>price</th>\n",
       "    </tr>\n",
       "    <tr>\n",
       "      <th>zipcode</th>\n",
       "      <th></th>\n",
       "    </tr>\n",
       "  </thead>\n",
       "  <tbody>\n",
       "    <tr>\n",
       "      <th>98001</th>\n",
       "      <td>2.808047e+05</td>\n",
       "    </tr>\n",
       "    <tr>\n",
       "      <th>98002</th>\n",
       "      <td>2.342840e+05</td>\n",
       "    </tr>\n",
       "    <tr>\n",
       "      <th>98003</th>\n",
       "      <td>2.941113e+05</td>\n",
       "    </tr>\n",
       "    <tr>\n",
       "      <th>98004</th>\n",
       "      <td>1.355927e+06</td>\n",
       "    </tr>\n",
       "    <tr>\n",
       "      <th>98005</th>\n",
       "      <td>8.101649e+05</td>\n",
       "    </tr>\n",
       "    <tr>\n",
       "      <th>...</th>\n",
       "      <td>...</td>\n",
       "    </tr>\n",
       "    <tr>\n",
       "      <th>98177</th>\n",
       "      <td>6.761854e+05</td>\n",
       "    </tr>\n",
       "    <tr>\n",
       "      <th>98178</th>\n",
       "      <td>3.106128e+05</td>\n",
       "    </tr>\n",
       "    <tr>\n",
       "      <th>98188</th>\n",
       "      <td>2.890783e+05</td>\n",
       "    </tr>\n",
       "    <tr>\n",
       "      <th>98198</th>\n",
       "      <td>3.028789e+05</td>\n",
       "    </tr>\n",
       "    <tr>\n",
       "      <th>98199</th>\n",
       "      <td>7.918208e+05</td>\n",
       "    </tr>\n",
       "  </tbody>\n",
       "</table>\n",
       "<p>70 rows × 1 columns</p>\n",
       "</div>"
      ],
      "text/plain": [
       "                price\n",
       "zipcode              \n",
       "98001    2.808047e+05\n",
       "98002    2.342840e+05\n",
       "98003    2.941113e+05\n",
       "98004    1.355927e+06\n",
       "98005    8.101649e+05\n",
       "...               ...\n",
       "98177    6.761854e+05\n",
       "98178    3.106128e+05\n",
       "98188    2.890783e+05\n",
       "98198    3.028789e+05\n",
       "98199    7.918208e+05\n",
       "\n",
       "[70 rows x 1 columns]"
      ]
     },
     "execution_count": 151,
     "metadata": {},
     "output_type": "execute_result"
    }
   ],
   "source": [
    "RegionGroup= data[['price', 'zipcode']].groupby(['zipcode']).mean()\n",
    "RegionGroup"
   ]
  },
  {
   "cell_type": "code",
   "execution_count": 153,
   "id": "8074c29b",
   "metadata": {},
   "outputs": [],
   "source": [
    "\n",
    "data['Este valor está: '] = 'NA'\n",
    "for i in range(len(RegionGroup)):\n",
    "    prices = data['price'].loc[data['zipcode'] == RegionGroup.index[i]]\n",
    "    for row in range(len(prices)):\n",
    "        idx = prices.index[row]\n",
    "        \n",
    "        if prices.iloc[row] >= RegionGroup['price'].iloc[i]:\n",
    "            data['Este valor está: '].iloc[idx] = 'acima da média'\n",
    "        else:\n",
    "            data['Este valor está: '].iloc[idx] = 'abaixo da média'"
   ]
  },
  {
   "cell_type": "code",
   "execution_count": 154,
   "id": "c8d9a6cd",
   "metadata": {},
   "outputs": [
    {
     "data": {
      "text/html": [
       "<div>\n",
       "<style scoped>\n",
       "    .dataframe tbody tr th:only-of-type {\n",
       "        vertical-align: middle;\n",
       "    }\n",
       "\n",
       "    .dataframe tbody tr th {\n",
       "        vertical-align: top;\n",
       "    }\n",
       "\n",
       "    .dataframe thead th {\n",
       "        text-align: right;\n",
       "    }\n",
       "</style>\n",
       "<table border=\"1\" class=\"dataframe\">\n",
       "  <thead>\n",
       "    <tr style=\"text-align: right;\">\n",
       "      <th></th>\n",
       "      <th>zipcode</th>\n",
       "      <th>id</th>\n",
       "      <th>price</th>\n",
       "      <th>Este valor está:</th>\n",
       "      <th>Se Deve Comprar?</th>\n",
       "    </tr>\n",
       "  </thead>\n",
       "  <tbody>\n",
       "    <tr>\n",
       "      <th>0</th>\n",
       "      <td>98178</td>\n",
       "      <td>7129300520</td>\n",
       "      <td>221900.0</td>\n",
       "      <td>abaixo da média</td>\n",
       "      <td>SIM</td>\n",
       "    </tr>\n",
       "    <tr>\n",
       "      <th>1</th>\n",
       "      <td>98125</td>\n",
       "      <td>6414100192</td>\n",
       "      <td>538000.0</td>\n",
       "      <td>acima da média</td>\n",
       "      <td>NÃO</td>\n",
       "    </tr>\n",
       "    <tr>\n",
       "      <th>2</th>\n",
       "      <td>98028</td>\n",
       "      <td>5631500400</td>\n",
       "      <td>180000.0</td>\n",
       "      <td>abaixo da média</td>\n",
       "      <td>SIM</td>\n",
       "    </tr>\n",
       "    <tr>\n",
       "      <th>3</th>\n",
       "      <td>98136</td>\n",
       "      <td>2487200875</td>\n",
       "      <td>604000.0</td>\n",
       "      <td>acima da média</td>\n",
       "      <td>NÃO</td>\n",
       "    </tr>\n",
       "    <tr>\n",
       "      <th>4</th>\n",
       "      <td>98074</td>\n",
       "      <td>1954400510</td>\n",
       "      <td>510000.0</td>\n",
       "      <td>abaixo da média</td>\n",
       "      <td>SIM</td>\n",
       "    </tr>\n",
       "    <tr>\n",
       "      <th>...</th>\n",
       "      <td>...</td>\n",
       "      <td>...</td>\n",
       "      <td>...</td>\n",
       "      <td>...</td>\n",
       "      <td>...</td>\n",
       "    </tr>\n",
       "    <tr>\n",
       "      <th>21608</th>\n",
       "      <td>98103</td>\n",
       "      <td>263000018</td>\n",
       "      <td>360000.0</td>\n",
       "      <td>abaixo da média</td>\n",
       "      <td>SIM</td>\n",
       "    </tr>\n",
       "    <tr>\n",
       "      <th>21609</th>\n",
       "      <td>98146</td>\n",
       "      <td>6600060120</td>\n",
       "      <td>400000.0</td>\n",
       "      <td>acima da média</td>\n",
       "      <td>NÃO</td>\n",
       "    </tr>\n",
       "    <tr>\n",
       "      <th>21610</th>\n",
       "      <td>98144</td>\n",
       "      <td>1523300141</td>\n",
       "      <td>402101.0</td>\n",
       "      <td>abaixo da média</td>\n",
       "      <td>SIM</td>\n",
       "    </tr>\n",
       "    <tr>\n",
       "      <th>21611</th>\n",
       "      <td>98027</td>\n",
       "      <td>291310100</td>\n",
       "      <td>400000.0</td>\n",
       "      <td>abaixo da média</td>\n",
       "      <td>SIM</td>\n",
       "    </tr>\n",
       "    <tr>\n",
       "      <th>21612</th>\n",
       "      <td>98144</td>\n",
       "      <td>1523300157</td>\n",
       "      <td>325000.0</td>\n",
       "      <td>abaixo da média</td>\n",
       "      <td>SIM</td>\n",
       "    </tr>\n",
       "  </tbody>\n",
       "</table>\n",
       "<p>21613 rows × 5 columns</p>\n",
       "</div>"
      ],
      "text/plain": [
       "       zipcode          id     price Este valor está:  Se Deve Comprar?\n",
       "0        98178  7129300520  221900.0   abaixo da média              SIM\n",
       "1        98125  6414100192  538000.0    acima da média             NÃO\n",
       "2        98028  5631500400  180000.0   abaixo da média              SIM\n",
       "3        98136  2487200875  604000.0    acima da média             NÃO\n",
       "4        98074  1954400510  510000.0   abaixo da média              SIM\n",
       "...        ...         ...       ...                ...              ...\n",
       "21608    98103   263000018  360000.0   abaixo da média              SIM\n",
       "21609    98146  6600060120  400000.0    acima da média             NÃO\n",
       "21610    98144  1523300141  402101.0   abaixo da média              SIM\n",
       "21611    98027   291310100  400000.0   abaixo da média              SIM\n",
       "21612    98144  1523300157  325000.0   abaixo da média              SIM\n",
       "\n",
       "[21613 rows x 5 columns]"
      ]
     },
     "execution_count": 154,
     "metadata": {},
     "output_type": "execute_result"
    }
   ],
   "source": [
    "\n",
    "data['Se Deve Comprar?'] = 'NÃO'\n",
    "\n",
    "data.loc[data['Este valor está: '] == 'abaixo da média', 'Se Deve Comprar?']= 'SIM'\n",
    "TabelaDeRecomendação= data[['zipcode', 'id', 'price', 'Este valor está: ', 'Se Deve Comprar?']]\n",
    "TabelaDeRecomendação"
   ]
  },
  {
   "cell_type": "markdown",
   "id": "bba1d520",
   "metadata": {},
   "source": [
    "# MÉDIAS POR ESTAÇÃO DO ANO"
   ]
  },
  {
   "cell_type": "code",
   "execution_count": null,
   "id": "f89eebd2",
   "metadata": {},
   "outputs": [],
   "source": [
    "#Summer: June(6) 21st to September(9) 23rd;\n",
    "#Fall: September(9) 22 or 23 to December(12) 22;\n",
    "#Winter: December(12) 22nd to March(3) 20th;\n",
    "#Spring: March(3) 20th to June(6) 21st."
   ]
  },
  {
   "cell_type": "code",
   "execution_count": 134,
   "id": "2af72fde",
   "metadata": {},
   "outputs": [],
   "source": [
    "data['temporadas'] = 'NA'\n",
    "data['date']= pd.to_datetime(data['date'])\n",
    "\n",
    "data.loc[(data['date'] >= '2014-06-21') & (data['date'] < '2014-09-23'), 'Temporadas'] =   'Verão'\n",
    "\n",
    "data.loc[((data['date'] >= '2014-09-23') & (data['date'] < '2014-12-22')), 'Temporadas'] = 'Outono'\n",
    "\n",
    "data.loc[(data['date'] >= '2014-12-22') & (data['date'] < '2015-03-20'), 'Temporadas'] =   'Inverno'\n",
    "\n",
    "data.loc[(data['date'] < '2014-06-21') | (data['date'] >= '2015-03-20'), 'Temporadas'] =   'Primavera'"
   ]
  },
  {
   "cell_type": "code",
   "execution_count": 339,
   "id": "7c73be86",
   "metadata": {},
   "outputs": [],
   "source": [
    "#The best time to sell real estate is in the spring, when properties prices are at their highest.\n"
   ]
  },
  {
   "cell_type": "code",
   "execution_count": 135,
   "id": "f29739e9",
   "metadata": {},
   "outputs": [
    {
     "data": {
      "text/html": [
       "<div>\n",
       "<style scoped>\n",
       "    .dataframe tbody tr th:only-of-type {\n",
       "        vertical-align: middle;\n",
       "    }\n",
       "\n",
       "    .dataframe tbody tr th {\n",
       "        vertical-align: top;\n",
       "    }\n",
       "\n",
       "    .dataframe thead th {\n",
       "        text-align: right;\n",
       "    }\n",
       "</style>\n",
       "<table border=\"1\" class=\"dataframe\">\n",
       "  <thead>\n",
       "    <tr style=\"text-align: right;\">\n",
       "      <th></th>\n",
       "      <th>Temporadas</th>\n",
       "      <th>price</th>\n",
       "    </tr>\n",
       "    <tr>\n",
       "      <th>zipcode</th>\n",
       "      <th></th>\n",
       "      <th></th>\n",
       "    </tr>\n",
       "  </thead>\n",
       "  <tbody>\n",
       "    <tr>\n",
       "      <th>98001</th>\n",
       "      <td>Inverno</td>\n",
       "      <td>260000.0</td>\n",
       "    </tr>\n",
       "    <tr>\n",
       "      <th>98001</th>\n",
       "      <td>Outono</td>\n",
       "      <td>250000.0</td>\n",
       "    </tr>\n",
       "    <tr>\n",
       "      <th>98001</th>\n",
       "      <td>Primavera</td>\n",
       "      <td>265000.0</td>\n",
       "    </tr>\n",
       "    <tr>\n",
       "      <th>98001</th>\n",
       "      <td>Verão</td>\n",
       "      <td>262500.0</td>\n",
       "    </tr>\n",
       "    <tr>\n",
       "      <th>98002</th>\n",
       "      <td>Inverno</td>\n",
       "      <td>236475.0</td>\n",
       "    </tr>\n",
       "    <tr>\n",
       "      <th>...</th>\n",
       "      <td>...</td>\n",
       "      <td>...</td>\n",
       "    </tr>\n",
       "    <tr>\n",
       "      <th>98198</th>\n",
       "      <td>Verão</td>\n",
       "      <td>269800.0</td>\n",
       "    </tr>\n",
       "    <tr>\n",
       "      <th>98199</th>\n",
       "      <td>Inverno</td>\n",
       "      <td>604000.0</td>\n",
       "    </tr>\n",
       "    <tr>\n",
       "      <th>98199</th>\n",
       "      <td>Outono</td>\n",
       "      <td>650000.0</td>\n",
       "    </tr>\n",
       "    <tr>\n",
       "      <th>98199</th>\n",
       "      <td>Primavera</td>\n",
       "      <td>730000.0</td>\n",
       "    </tr>\n",
       "    <tr>\n",
       "      <th>98199</th>\n",
       "      <td>Verão</td>\n",
       "      <td>722500.0</td>\n",
       "    </tr>\n",
       "  </tbody>\n",
       "</table>\n",
       "<p>280 rows × 2 columns</p>\n",
       "</div>"
      ],
      "text/plain": [
       "        Temporadas     price\n",
       "zipcode                     \n",
       "98001      Inverno  260000.0\n",
       "98001       Outono  250000.0\n",
       "98001    Primavera  265000.0\n",
       "98001       Verão  262500.0\n",
       "98002      Inverno  236475.0\n",
       "...            ...       ...\n",
       "98198       Verão  269800.0\n",
       "98199      Inverno  604000.0\n",
       "98199       Outono  650000.0\n",
       "98199    Primavera  730000.0\n",
       "98199       Verão  722500.0\n",
       "\n",
       "[280 rows x 2 columns]"
      ]
     },
     "execution_count": 135,
     "metadata": {},
     "output_type": "execute_result"
    }
   ],
   "source": [
    "\n",
    "dfMedianZipcodeSeason = data[['price', 'zipcode', 'Temporadas']].groupby(['zipcode', 'Temporadas']).median().reset_index()\n",
    "dfMedianZipcodeSeason.set_index('zipcode', inplace= True)\n",
    "dfMedianZipcodeSeason"
   ]
  },
  {
   "cell_type": "code",
   "execution_count": 139,
   "id": "ef2ab971",
   "metadata": {},
   "outputs": [],
   "source": [
    "data['sale_price'] = 'NaN'\n",
    "data['median_price'] = 'NaN'\n",
    "\n",
    "zipcodes = list(data['zipcode'].unique())\n",
    "\n",
    "for i in range(len(zipcodes)):\n",
    "    priceAndSeason = data[['zipcode', 'price', 'Temporadas']].loc[data['zipcode'] == zipcodes[i]]\n",
    "                                                       \n",
    "    for row in range(len(priceAndSeason)):\n",
    "        idx = priceAndSeason.index[row]\n",
    "        Temporadas = priceAndSeason['Temporadas'].iloc[row]\n",
    "                                                        \n",
    "        dfLoc = dfMedianZipcodeSeason.loc[(dfMedianZipcodeSeason.index == zipcodes[i]) &\n",
    "                        (dfMedianZipcodeSeason['Temporadas'] == Temporadas)]\n",
    "                                                        \n",
    "        if priceAndSeason['price'].iloc[row] > dfLoc['price'].iloc[0]:\n",
    "            data['sale_price'].iloc[idx] = data['price'].iloc[idx] * 1.1\n",
    "            data['median_price'].iloc[idx] = dfLoc['price'].iloc[0]\n",
    "        else:\n",
    "            data['sale_price'].iloc[idx] = data['price'].iloc[idx] * 1.3\n",
    "            data['median_price'].iloc[idx] = dfLoc['price'].iloc[0]"
   ]
  },
  {
   "cell_type": "code",
   "execution_count": 140,
   "id": "6265b307",
   "metadata": {},
   "outputs": [
    {
     "data": {
      "text/html": [
       "<div>\n",
       "<style scoped>\n",
       "    .dataframe tbody tr th:only-of-type {\n",
       "        vertical-align: middle;\n",
       "    }\n",
       "\n",
       "    .dataframe tbody tr th {\n",
       "        vertical-align: top;\n",
       "    }\n",
       "\n",
       "    .dataframe thead th {\n",
       "        text-align: right;\n",
       "    }\n",
       "</style>\n",
       "<table border=\"1\" class=\"dataframe\">\n",
       "  <thead>\n",
       "    <tr style=\"text-align: right;\">\n",
       "      <th></th>\n",
       "      <th>id</th>\n",
       "      <th>date</th>\n",
       "      <th>zipcode</th>\n",
       "      <th>Temporadas</th>\n",
       "      <th>price</th>\n",
       "      <th>median_price</th>\n",
       "      <th>sale_price</th>\n",
       "    </tr>\n",
       "  </thead>\n",
       "  <tbody>\n",
       "    <tr>\n",
       "      <th>0</th>\n",
       "      <td>7129300520</td>\n",
       "      <td>2014-10-13</td>\n",
       "      <td>98178</td>\n",
       "      <td>Outono</td>\n",
       "      <td>221900.0</td>\n",
       "      <td>284000.0</td>\n",
       "      <td>288470.0</td>\n",
       "    </tr>\n",
       "    <tr>\n",
       "      <th>1</th>\n",
       "      <td>6414100192</td>\n",
       "      <td>2014-12-09</td>\n",
       "      <td>98125</td>\n",
       "      <td>Outono</td>\n",
       "      <td>538000.0</td>\n",
       "      <td>435500.0</td>\n",
       "      <td>591800.0</td>\n",
       "    </tr>\n",
       "    <tr>\n",
       "      <th>2</th>\n",
       "      <td>5631500400</td>\n",
       "      <td>2015-02-25</td>\n",
       "      <td>98028</td>\n",
       "      <td>Inverno</td>\n",
       "      <td>180000.0</td>\n",
       "      <td>443250.0</td>\n",
       "      <td>234000.0</td>\n",
       "    </tr>\n",
       "    <tr>\n",
       "      <th>3</th>\n",
       "      <td>2487200875</td>\n",
       "      <td>2014-12-09</td>\n",
       "      <td>98136</td>\n",
       "      <td>Outono</td>\n",
       "      <td>604000.0</td>\n",
       "      <td>469300.0</td>\n",
       "      <td>664400.0</td>\n",
       "    </tr>\n",
       "    <tr>\n",
       "      <th>4</th>\n",
       "      <td>1954400510</td>\n",
       "      <td>2015-02-18</td>\n",
       "      <td>98074</td>\n",
       "      <td>Inverno</td>\n",
       "      <td>510000.0</td>\n",
       "      <td>627800.0</td>\n",
       "      <td>663000.0</td>\n",
       "    </tr>\n",
       "    <tr>\n",
       "      <th>...</th>\n",
       "      <td>...</td>\n",
       "      <td>...</td>\n",
       "      <td>...</td>\n",
       "      <td>...</td>\n",
       "      <td>...</td>\n",
       "      <td>...</td>\n",
       "      <td>...</td>\n",
       "    </tr>\n",
       "    <tr>\n",
       "      <th>21608</th>\n",
       "      <td>263000018</td>\n",
       "      <td>2014-05-21</td>\n",
       "      <td>98103</td>\n",
       "      <td>Primavera</td>\n",
       "      <td>360000.0</td>\n",
       "      <td>550000.0</td>\n",
       "      <td>468000.0</td>\n",
       "    </tr>\n",
       "    <tr>\n",
       "      <th>21609</th>\n",
       "      <td>6600060120</td>\n",
       "      <td>2015-02-23</td>\n",
       "      <td>98146</td>\n",
       "      <td>Inverno</td>\n",
       "      <td>400000.0</td>\n",
       "      <td>265000.0</td>\n",
       "      <td>440000.0</td>\n",
       "    </tr>\n",
       "    <tr>\n",
       "      <th>21610</th>\n",
       "      <td>1523300141</td>\n",
       "      <td>2014-06-23</td>\n",
       "      <td>98144</td>\n",
       "      <td>Verão</td>\n",
       "      <td>402101.0</td>\n",
       "      <td>477500.0</td>\n",
       "      <td>522731.3</td>\n",
       "    </tr>\n",
       "    <tr>\n",
       "      <th>21611</th>\n",
       "      <td>291310100</td>\n",
       "      <td>2015-01-16</td>\n",
       "      <td>98027</td>\n",
       "      <td>Inverno</td>\n",
       "      <td>400000.0</td>\n",
       "      <td>548500.0</td>\n",
       "      <td>520000.0</td>\n",
       "    </tr>\n",
       "    <tr>\n",
       "      <th>21612</th>\n",
       "      <td>1523300157</td>\n",
       "      <td>2014-10-15</td>\n",
       "      <td>98144</td>\n",
       "      <td>Outono</td>\n",
       "      <td>325000.0</td>\n",
       "      <td>427450.0</td>\n",
       "      <td>422500.0</td>\n",
       "    </tr>\n",
       "  </tbody>\n",
       "</table>\n",
       "<p>21613 rows × 7 columns</p>\n",
       "</div>"
      ],
      "text/plain": [
       "               id       date  zipcode Temporadas     price median_price  \\\n",
       "0      7129300520 2014-10-13    98178     Outono  221900.0     284000.0   \n",
       "1      6414100192 2014-12-09    98125     Outono  538000.0     435500.0   \n",
       "2      5631500400 2015-02-25    98028    Inverno  180000.0     443250.0   \n",
       "3      2487200875 2014-12-09    98136     Outono  604000.0     469300.0   \n",
       "4      1954400510 2015-02-18    98074    Inverno  510000.0     627800.0   \n",
       "...           ...        ...      ...        ...       ...          ...   \n",
       "21608   263000018 2014-05-21    98103  Primavera  360000.0     550000.0   \n",
       "21609  6600060120 2015-02-23    98146    Inverno  400000.0     265000.0   \n",
       "21610  1523300141 2014-06-23    98144     Verão  402101.0     477500.0   \n",
       "21611   291310100 2015-01-16    98027    Inverno  400000.0     548500.0   \n",
       "21612  1523300157 2014-10-15    98144     Outono  325000.0     427450.0   \n",
       "\n",
       "      sale_price  \n",
       "0       288470.0  \n",
       "1       591800.0  \n",
       "2       234000.0  \n",
       "3       664400.0  \n",
       "4       663000.0  \n",
       "...          ...  \n",
       "21608   468000.0  \n",
       "21609   440000.0  \n",
       "21610   522731.3  \n",
       "21611   520000.0  \n",
       "21612   422500.0  \n",
       "\n",
       "[21613 rows x 7 columns]"
      ]
     },
     "execution_count": 140,
     "metadata": {},
     "output_type": "execute_result"
    }
   ],
   "source": [
    "data_sale = data[['id', 'date', 'zipcode', 'Temporadas', 'price', 'median_price', 'sale_price']]\n",
    "data_sale"
   ]
  },
  {
   "cell_type": "code",
   "execution_count": 142,
   "id": "bd473524",
   "metadata": {},
   "outputs": [
    {
     "name": "stderr",
     "output_type": "stream",
     "text": [
      "/home/arquinho/.local/lib/python3.8/site-packages/pandas/core/frame.py:5039: SettingWithCopyWarning: \n",
      "A value is trying to be set on a copy of a slice from a DataFrame\n",
      "\n",
      "See the caveats in the documentation: https://pandas.pydata.org/pandas-docs/stable/user_guide/indexing.html#returning-a-view-versus-a-copy\n",
      "  return super().rename(\n"
     ]
    }
   ],
   "source": [
    "data_sale.rename(columns= {'price': 'buy_price'}, inplace= True)"
   ]
  },
  {
   "cell_type": "code",
   "execution_count": 144,
   "id": "28dcbc3a",
   "metadata": {},
   "outputs": [
    {
     "name": "stderr",
     "output_type": "stream",
     "text": [
      "/tmp/ipykernel_9887/1450526250.py:1: SettingWithCopyWarning: \n",
      "A value is trying to be set on a copy of a slice from a DataFrame.\n",
      "Try using .loc[row_indexer,col_indexer] = value instead\n",
      "\n",
      "See the caveats in the documentation: https://pandas.pydata.org/pandas-docs/stable/user_guide/indexing.html#returning-a-view-versus-a-copy\n",
      "  data_sale['gain'] = 'Null'\n"
     ]
    }
   ],
   "source": [
    "data_sale['gain'] = 'Null'\n",
    "for i in range(len(data_sale)):\n",
    "    data_sale.loc[i, 'gain'] = data_sale.loc[i, 'sale_price'] - data_sale.loc[i, 'buy_price']"
   ]
  },
  {
   "cell_type": "code",
   "execution_count": 145,
   "id": "bf336783",
   "metadata": {},
   "outputs": [
    {
     "data": {
      "text/html": [
       "<div>\n",
       "<style scoped>\n",
       "    .dataframe tbody tr th:only-of-type {\n",
       "        vertical-align: middle;\n",
       "    }\n",
       "\n",
       "    .dataframe tbody tr th {\n",
       "        vertical-align: top;\n",
       "    }\n",
       "\n",
       "    .dataframe thead th {\n",
       "        text-align: right;\n",
       "    }\n",
       "</style>\n",
       "<table border=\"1\" class=\"dataframe\">\n",
       "  <thead>\n",
       "    <tr style=\"text-align: right;\">\n",
       "      <th></th>\n",
       "      <th>id</th>\n",
       "      <th>date</th>\n",
       "      <th>zipcode</th>\n",
       "      <th>Temporadas</th>\n",
       "      <th>buy_price</th>\n",
       "      <th>median_price</th>\n",
       "      <th>sale_price</th>\n",
       "      <th>gain</th>\n",
       "    </tr>\n",
       "  </thead>\n",
       "  <tbody>\n",
       "    <tr>\n",
       "      <th>0</th>\n",
       "      <td>7129300520</td>\n",
       "      <td>2014-10-13</td>\n",
       "      <td>98178</td>\n",
       "      <td>Outono</td>\n",
       "      <td>221900.0</td>\n",
       "      <td>284000.0</td>\n",
       "      <td>288470.0</td>\n",
       "      <td>66570.0</td>\n",
       "    </tr>\n",
       "    <tr>\n",
       "      <th>1</th>\n",
       "      <td>6414100192</td>\n",
       "      <td>2014-12-09</td>\n",
       "      <td>98125</td>\n",
       "      <td>Outono</td>\n",
       "      <td>538000.0</td>\n",
       "      <td>435500.0</td>\n",
       "      <td>591800.0</td>\n",
       "      <td>53800.0</td>\n",
       "    </tr>\n",
       "    <tr>\n",
       "      <th>2</th>\n",
       "      <td>5631500400</td>\n",
       "      <td>2015-02-25</td>\n",
       "      <td>98028</td>\n",
       "      <td>Inverno</td>\n",
       "      <td>180000.0</td>\n",
       "      <td>443250.0</td>\n",
       "      <td>234000.0</td>\n",
       "      <td>54000.0</td>\n",
       "    </tr>\n",
       "    <tr>\n",
       "      <th>3</th>\n",
       "      <td>2487200875</td>\n",
       "      <td>2014-12-09</td>\n",
       "      <td>98136</td>\n",
       "      <td>Outono</td>\n",
       "      <td>604000.0</td>\n",
       "      <td>469300.0</td>\n",
       "      <td>664400.0</td>\n",
       "      <td>60400.0</td>\n",
       "    </tr>\n",
       "    <tr>\n",
       "      <th>4</th>\n",
       "      <td>1954400510</td>\n",
       "      <td>2015-02-18</td>\n",
       "      <td>98074</td>\n",
       "      <td>Inverno</td>\n",
       "      <td>510000.0</td>\n",
       "      <td>627800.0</td>\n",
       "      <td>663000.0</td>\n",
       "      <td>153000.0</td>\n",
       "    </tr>\n",
       "  </tbody>\n",
       "</table>\n",
       "</div>"
      ],
      "text/plain": [
       "           id       date  zipcode Temporadas  buy_price median_price  \\\n",
       "0  7129300520 2014-10-13    98178     Outono   221900.0     284000.0   \n",
       "1  6414100192 2014-12-09    98125     Outono   538000.0     435500.0   \n",
       "2  5631500400 2015-02-25    98028    Inverno   180000.0     443250.0   \n",
       "3  2487200875 2014-12-09    98136     Outono   604000.0     469300.0   \n",
       "4  1954400510 2015-02-18    98074    Inverno   510000.0     627800.0   \n",
       "\n",
       "  sale_price      gain  \n",
       "0   288470.0   66570.0  \n",
       "1   591800.0   53800.0  \n",
       "2   234000.0   54000.0  \n",
       "3   664400.0   60400.0  \n",
       "4   663000.0  153000.0  "
      ]
     },
     "execution_count": 145,
     "metadata": {},
     "output_type": "execute_result"
    }
   ],
   "source": [
    "data_sale.head()"
   ]
  },
  {
   "cell_type": "code",
   "execution_count": null,
   "id": "bcfa9ac9",
   "metadata": {},
   "outputs": [],
   "source": [
    "# VALIDANDO HIPOTES"
   ]
  },
  {
   "cell_type": "code",
   "execution_count": 3,
   "id": "08924009",
   "metadata": {},
   "outputs": [
    {
     "name": "stdout",
     "output_type": "stream",
     "text": [
      "212.6391696351833\n"
     ]
    }
   ],
   "source": [
    "# H1: Imóveis que possuem vista para água, são 30% mais caros, na média.\n",
    "    # Falso pois casas com vista para agua são em média 212.64% mais caras do que as sem vista para água\n",
    "v1= (data.loc[data['waterfront']==1, 'price'].mean()) # = 1,661,876.0245\n",
    "v2= (data.loc[data['waterfront']==0, 'price'].mean()) # 531563.5998\n",
    "\n",
    "# Regra de 3\n",
    "print(v1*100/v2-100) # 212.64% mais caro"
   ]
  },
  {
   "cell_type": "code",
   "execution_count": 4,
   "id": "bd735a31",
   "metadata": {},
   "outputs": [
    {
     "data": {
      "text/plain": [
       "-0.7849734037613274"
      ]
     },
     "execution_count": 4,
     "metadata": {},
     "output_type": "execute_result"
    }
   ],
   "source": [
    "# H2: Imóveis com data de construção menor que 1955, são 50% mais baratos, na média.\n",
    "    # Falso pois as casas feitas antes de 1955 são 0.79% mais baratas\n",
    "v1= (data.loc[data['yr_built']<1955, 'price'].mean()) # 537050.9076\n",
    "v2=(data.loc[data['yr_built']>=1955, 'price'].mean()) #541299.9684\n",
    "v1*100/v2-100 # 0.78% mais baratas"
   ]
  },
  {
   "cell_type": "code",
   "execution_count": 5,
   "id": "3024edaf",
   "metadata": {},
   "outputs": [
    {
     "data": {
      "text/plain": [
       "-18.409784757710298"
      ]
     },
     "execution_count": 5,
     "metadata": {},
     "output_type": "execute_result"
    }
   ],
   "source": [
    "# H3: Imóveis sem porão possuem sqrt_lot, são 50% maiores do que com porão.\n",
    "    # Falso pois as casas com porão sao em media 18.4% maiores do que as sem\n",
    "v1= data.loc[data['sqft_basement']>0, 'sqft_lot'].mean() # 13286.29 sqft\n",
    "v2= data.loc[data['sqft_basement']==0, 'sqft_lot'].mean() # 16284.17\n",
    "v1*100/v2-100 # imoveis sem porao sao 18.4% maiores"
   ]
  },
  {
   "cell_type": "code",
   "execution_count": 6,
   "id": "ea7f387d",
   "metadata": {},
   "outputs": [],
   "source": [
    "# H4: O crescimento do preço dos imóveis YoY ( Year OverYear ) é de 10%\n",
    "    # Falso, historicamente há um decressimo de 0.59% no valor dos imóveis\n",
    "df1= data[['price', 'yr_built']]"
   ]
  },
  {
   "cell_type": "code",
   "execution_count": 7,
   "id": "fb34d187",
   "metadata": {},
   "outputs": [
    {
     "name": "stderr",
     "output_type": "stream",
     "text": [
      "/tmp/ipykernel_31436/2957546409.py:1: SettingWithCopyWarning: \n",
      "A value is trying to be set on a copy of a slice from a DataFrame.\n",
      "Try using .loc[row_indexer,col_indexer] = value instead\n",
      "\n",
      "See the caveats in the documentation: https://pandas.pydata.org/pandas-docs/stable/user_guide/indexing.html#returning-a-view-versus-a-copy\n",
      "  df1['difference']= df1['price'].diff(1)\n"
     ]
    },
    {
     "data": {
      "text/html": [
       "<div>\n",
       "<style scoped>\n",
       "    .dataframe tbody tr th:only-of-type {\n",
       "        vertical-align: middle;\n",
       "    }\n",
       "\n",
       "    .dataframe tbody tr th {\n",
       "        vertical-align: top;\n",
       "    }\n",
       "\n",
       "    .dataframe thead th {\n",
       "        text-align: right;\n",
       "    }\n",
       "</style>\n",
       "<table border=\"1\" class=\"dataframe\">\n",
       "  <thead>\n",
       "    <tr style=\"text-align: right;\">\n",
       "      <th></th>\n",
       "      <th>price</th>\n",
       "      <th>yr_built</th>\n",
       "      <th>difference</th>\n",
       "    </tr>\n",
       "  </thead>\n",
       "  <tbody>\n",
       "    <tr>\n",
       "      <th>0</th>\n",
       "      <td>221900.0</td>\n",
       "      <td>1955</td>\n",
       "      <td>NaN</td>\n",
       "    </tr>\n",
       "    <tr>\n",
       "      <th>1</th>\n",
       "      <td>538000.0</td>\n",
       "      <td>1951</td>\n",
       "      <td>316100.0</td>\n",
       "    </tr>\n",
       "    <tr>\n",
       "      <th>2</th>\n",
       "      <td>180000.0</td>\n",
       "      <td>1933</td>\n",
       "      <td>-358000.0</td>\n",
       "    </tr>\n",
       "    <tr>\n",
       "      <th>3</th>\n",
       "      <td>604000.0</td>\n",
       "      <td>1965</td>\n",
       "      <td>424000.0</td>\n",
       "    </tr>\n",
       "    <tr>\n",
       "      <th>4</th>\n",
       "      <td>510000.0</td>\n",
       "      <td>1987</td>\n",
       "      <td>-94000.0</td>\n",
       "    </tr>\n",
       "  </tbody>\n",
       "</table>\n",
       "</div>"
      ],
      "text/plain": [
       "      price  yr_built  difference\n",
       "0  221900.0      1955         NaN\n",
       "1  538000.0      1951    316100.0\n",
       "2  180000.0      1933   -358000.0\n",
       "3  604000.0      1965    424000.0\n",
       "4  510000.0      1987    -94000.0"
      ]
     },
     "execution_count": 7,
     "metadata": {},
     "output_type": "execute_result"
    }
   ],
   "source": [
    "df1['difference']= df1['price'].diff(1)\n",
    "df1.head()"
   ]
  },
  {
   "cell_type": "code",
   "execution_count": 275,
   "id": "9857e493",
   "metadata": {},
   "outputs": [],
   "source": [
    "df1= df1.groupby('yr_built')['price'].mean().reset_index()"
   ]
  },
  {
   "cell_type": "code",
   "execution_count": 276,
   "id": "ed8784cf",
   "metadata": {},
   "outputs": [
    {
     "data": {
      "text/html": [
       "<div>\n",
       "<style scoped>\n",
       "    .dataframe tbody tr th:only-of-type {\n",
       "        vertical-align: middle;\n",
       "    }\n",
       "\n",
       "    .dataframe tbody tr th {\n",
       "        vertical-align: top;\n",
       "    }\n",
       "\n",
       "    .dataframe thead th {\n",
       "        text-align: right;\n",
       "    }\n",
       "</style>\n",
       "<table border=\"1\" class=\"dataframe\">\n",
       "  <thead>\n",
       "    <tr style=\"text-align: right;\">\n",
       "      <th></th>\n",
       "      <th>yr_built</th>\n",
       "      <th>price</th>\n",
       "    </tr>\n",
       "  </thead>\n",
       "  <tbody>\n",
       "    <tr>\n",
       "      <th>0</th>\n",
       "      <td>1900</td>\n",
       "      <td>581387.206897</td>\n",
       "    </tr>\n",
       "    <tr>\n",
       "      <th>1</th>\n",
       "      <td>1901</td>\n",
       "      <td>556935.931034</td>\n",
       "    </tr>\n",
       "    <tr>\n",
       "      <th>2</th>\n",
       "      <td>1902</td>\n",
       "      <td>673007.407407</td>\n",
       "    </tr>\n",
       "    <tr>\n",
       "      <th>3</th>\n",
       "      <td>1903</td>\n",
       "      <td>480958.195652</td>\n",
       "    </tr>\n",
       "    <tr>\n",
       "      <th>4</th>\n",
       "      <td>1904</td>\n",
       "      <td>583756.644444</td>\n",
       "    </tr>\n",
       "  </tbody>\n",
       "</table>\n",
       "</div>"
      ],
      "text/plain": [
       "   yr_built          price\n",
       "0      1900  581387.206897\n",
       "1      1901  556935.931034\n",
       "2      1902  673007.407407\n",
       "3      1903  480958.195652\n",
       "4      1904  583756.644444"
      ]
     },
     "execution_count": 276,
     "metadata": {},
     "output_type": "execute_result"
    }
   ],
   "source": [
    "df1.head()"
   ]
  },
  {
   "cell_type": "code",
   "execution_count": 277,
   "id": "78d5c6e4",
   "metadata": {},
   "outputs": [
    {
     "data": {
      "text/html": [
       "<div>\n",
       "<style scoped>\n",
       "    .dataframe tbody tr th:only-of-type {\n",
       "        vertical-align: middle;\n",
       "    }\n",
       "\n",
       "    .dataframe tbody tr th {\n",
       "        vertical-align: top;\n",
       "    }\n",
       "\n",
       "    .dataframe thead th {\n",
       "        text-align: right;\n",
       "    }\n",
       "</style>\n",
       "<table border=\"1\" class=\"dataframe\">\n",
       "  <thead>\n",
       "    <tr style=\"text-align: right;\">\n",
       "      <th></th>\n",
       "      <th>yr_built</th>\n",
       "      <th>price</th>\n",
       "      <th>difference</th>\n",
       "    </tr>\n",
       "  </thead>\n",
       "  <tbody>\n",
       "    <tr>\n",
       "      <th>0</th>\n",
       "      <td>1900</td>\n",
       "      <td>581387.206897</td>\n",
       "      <td>NaN</td>\n",
       "    </tr>\n",
       "    <tr>\n",
       "      <th>1</th>\n",
       "      <td>1901</td>\n",
       "      <td>556935.931034</td>\n",
       "      <td>-24451.275862</td>\n",
       "    </tr>\n",
       "    <tr>\n",
       "      <th>2</th>\n",
       "      <td>1902</td>\n",
       "      <td>673007.407407</td>\n",
       "      <td>116071.476373</td>\n",
       "    </tr>\n",
       "    <tr>\n",
       "      <th>3</th>\n",
       "      <td>1903</td>\n",
       "      <td>480958.195652</td>\n",
       "      <td>-192049.211755</td>\n",
       "    </tr>\n",
       "    <tr>\n",
       "      <th>4</th>\n",
       "      <td>1904</td>\n",
       "      <td>583756.644444</td>\n",
       "      <td>102798.448792</td>\n",
       "    </tr>\n",
       "  </tbody>\n",
       "</table>\n",
       "</div>"
      ],
      "text/plain": [
       "   yr_built          price     difference\n",
       "0      1900  581387.206897            NaN\n",
       "1      1901  556935.931034  -24451.275862\n",
       "2      1902  673007.407407  116071.476373\n",
       "3      1903  480958.195652 -192049.211755\n",
       "4      1904  583756.644444  102798.448792"
      ]
     },
     "execution_count": 277,
     "metadata": {},
     "output_type": "execute_result"
    }
   ],
   "source": [
    "df1['difference']= df1['price'].diff(1)\n",
    "df1.head()"
   ]
  },
  {
   "cell_type": "code",
   "execution_count": 278,
   "id": "99370dda",
   "metadata": {},
   "outputs": [
    {
     "data": {
      "text/html": [
       "<div>\n",
       "<style scoped>\n",
       "    .dataframe tbody tr th:only-of-type {\n",
       "        vertical-align: middle;\n",
       "    }\n",
       "\n",
       "    .dataframe tbody tr th {\n",
       "        vertical-align: top;\n",
       "    }\n",
       "\n",
       "    .dataframe thead th {\n",
       "        text-align: right;\n",
       "    }\n",
       "</style>\n",
       "<table border=\"1\" class=\"dataframe\">\n",
       "  <thead>\n",
       "    <tr style=\"text-align: right;\">\n",
       "      <th></th>\n",
       "      <th>yr_built</th>\n",
       "      <th>price</th>\n",
       "      <th>difference</th>\n",
       "      <th>YoY Percentage Diff</th>\n",
       "    </tr>\n",
       "  </thead>\n",
       "  <tbody>\n",
       "    <tr>\n",
       "      <th>0</th>\n",
       "      <td>1900</td>\n",
       "      <td>581387.206897</td>\n",
       "      <td>NaN</td>\n",
       "      <td>NaN</td>\n",
       "    </tr>\n",
       "    <tr>\n",
       "      <th>1</th>\n",
       "      <td>1901</td>\n",
       "      <td>556935.931034</td>\n",
       "      <td>-24451.275862</td>\n",
       "      <td>-4.39</td>\n",
       "    </tr>\n",
       "    <tr>\n",
       "      <th>2</th>\n",
       "      <td>1902</td>\n",
       "      <td>673007.407407</td>\n",
       "      <td>116071.476373</td>\n",
       "      <td>17.25</td>\n",
       "    </tr>\n",
       "    <tr>\n",
       "      <th>3</th>\n",
       "      <td>1903</td>\n",
       "      <td>480958.195652</td>\n",
       "      <td>-192049.211755</td>\n",
       "      <td>-39.93</td>\n",
       "    </tr>\n",
       "    <tr>\n",
       "      <th>4</th>\n",
       "      <td>1904</td>\n",
       "      <td>583756.644444</td>\n",
       "      <td>102798.448792</td>\n",
       "      <td>17.61</td>\n",
       "    </tr>\n",
       "    <tr>\n",
       "      <th>...</th>\n",
       "      <td>...</td>\n",
       "      <td>...</td>\n",
       "      <td>...</td>\n",
       "      <td>...</td>\n",
       "    </tr>\n",
       "    <tr>\n",
       "      <th>111</th>\n",
       "      <td>2011</td>\n",
       "      <td>544522.000000</td>\n",
       "      <td>-7106.664336</td>\n",
       "      <td>-1.31</td>\n",
       "    </tr>\n",
       "    <tr>\n",
       "      <th>112</th>\n",
       "      <td>2012</td>\n",
       "      <td>527447.335294</td>\n",
       "      <td>-17074.664706</td>\n",
       "      <td>-3.24</td>\n",
       "    </tr>\n",
       "    <tr>\n",
       "      <th>113</th>\n",
       "      <td>2013</td>\n",
       "      <td>678545.452736</td>\n",
       "      <td>151098.117442</td>\n",
       "      <td>22.27</td>\n",
       "    </tr>\n",
       "    <tr>\n",
       "      <th>114</th>\n",
       "      <td>2014</td>\n",
       "      <td>683681.754919</td>\n",
       "      <td>5136.302183</td>\n",
       "      <td>0.75</td>\n",
       "    </tr>\n",
       "    <tr>\n",
       "      <th>115</th>\n",
       "      <td>2015</td>\n",
       "      <td>759785.157895</td>\n",
       "      <td>76103.402975</td>\n",
       "      <td>10.02</td>\n",
       "    </tr>\n",
       "  </tbody>\n",
       "</table>\n",
       "<p>116 rows × 4 columns</p>\n",
       "</div>"
      ],
      "text/plain": [
       "     yr_built          price     difference  YoY Percentage Diff\n",
       "0        1900  581387.206897            NaN                  NaN\n",
       "1        1901  556935.931034  -24451.275862                -4.39\n",
       "2        1902  673007.407407  116071.476373                17.25\n",
       "3        1903  480958.195652 -192049.211755               -39.93\n",
       "4        1904  583756.644444  102798.448792                17.61\n",
       "..        ...            ...            ...                  ...\n",
       "111      2011  544522.000000   -7106.664336                -1.31\n",
       "112      2012  527447.335294  -17074.664706                -3.24\n",
       "113      2013  678545.452736  151098.117442                22.27\n",
       "114      2014  683681.754919    5136.302183                 0.75\n",
       "115      2015  759785.157895   76103.402975                10.02\n",
       "\n",
       "[116 rows x 4 columns]"
      ]
     },
     "execution_count": 278,
     "metadata": {},
     "output_type": "execute_result"
    }
   ],
   "source": [
    "df1['YoY Percentage Diff']= round(df1['difference']/df1['price']*100,2)\n",
    "df1"
   ]
  },
  {
   "cell_type": "code",
   "execution_count": 279,
   "id": "822de6bb",
   "metadata": {},
   "outputs": [
    {
     "data": {
      "text/plain": [
       "-0.5973043478260871"
      ]
     },
     "execution_count": 279,
     "metadata": {},
     "output_type": "execute_result"
    }
   ],
   "source": [
    "df2= df1['YoY Percentage Diff'].mean()\n",
    "df2"
   ]
  },
  {
   "cell_type": "code",
   "execution_count": 8,
   "id": "a481a593",
   "metadata": {},
   "outputs": [],
   "source": [
    "# H5: Imóveis com 3 banheiros tem um crescimento MoM ( Month over Month ) de 15%\n",
    "    # O crescimento histórico entre os meses é de 0.45%\n",
    "bath= data.loc[data['bathrooms']==3, ['price', 'date', 'bathrooms']]"
   ]
  },
  {
   "cell_type": "code",
   "execution_count": 9,
   "id": "96dad2f9",
   "metadata": {},
   "outputs": [],
   "source": [
    "bath['difference']= bath['price'].diff(1)"
   ]
  },
  {
   "cell_type": "code",
   "execution_count": 10,
   "id": "2e17eeac",
   "metadata": {},
   "outputs": [],
   "source": [
    "bath['date']= pd.to_datetime(bath['date'])"
   ]
  },
  {
   "cell_type": "code",
   "execution_count": 11,
   "id": "1dcbf745",
   "metadata": {},
   "outputs": [],
   "source": [
    "bath['Month']= bath['date'].dt.month\n",
    "# bath['Month']= bath['date']"
   ]
  },
  {
   "cell_type": "code",
   "execution_count": 12,
   "id": "5ec426c9",
   "metadata": {},
   "outputs": [],
   "source": [
    "bath= bath.groupby('Month')['price'].mean().reset_index()"
   ]
  },
  {
   "cell_type": "code",
   "execution_count": 13,
   "id": "e2d5407d",
   "metadata": {},
   "outputs": [],
   "source": [
    "bath['difference']= bath['price'].diff(1)"
   ]
  },
  {
   "cell_type": "code",
   "execution_count": 14,
   "id": "0b7f8499",
   "metadata": {},
   "outputs": [],
   "source": [
    "bath['MoM Percentage Diff']= round(bath['difference']/bath['price']*100, 2)"
   ]
  },
  {
   "cell_type": "code",
   "execution_count": 15,
   "id": "3f9a4bb5",
   "metadata": {},
   "outputs": [
    {
     "data": {
      "text/plain": [
       "0.44999999999999996"
      ]
     },
     "execution_count": 15,
     "metadata": {},
     "output_type": "execute_result"
    }
   ],
   "source": [
    "end= bath['MoM Percentage Diff'].mean()\n",
    "end"
   ]
  },
  {
   "cell_type": "code",
   "execution_count": 288,
   "id": "cf2209a9",
   "metadata": {},
   "outputs": [
    {
     "data": {
      "text/plain": [
       "Index(['id', 'date', 'price', 'bedrooms', 'bathrooms', 'sqft_living',\n",
       "       'sqft_lot', 'floors', 'waterfront', 'view', 'condition', 'grade',\n",
       "       'sqft_above', 'sqft_basement', 'yr_built', 'yr_renovated', 'zipcode',\n",
       "       'lat', 'long', 'sqft_living15', 'sqft_lot15'],\n",
       "      dtype='object')"
      ]
     },
     "execution_count": 288,
     "metadata": {},
     "output_type": "execute_result"
    }
   ],
   "source": [
    "data.columns"
   ]
  },
  {
   "cell_type": "code",
   "execution_count": 289,
   "id": "e77d9f27",
   "metadata": {},
   "outputs": [],
   "source": [
    "# H6: Há mais imóveis com vista para agua em condi'ões superiores a 3\n",
    "    # Falso, ha mais casas com condi'cao 3"
   ]
  },
  {
   "cell_type": "code",
   "execution_count": 290,
   "id": "7ed3d07a",
   "metadata": {},
   "outputs": [
    {
     "data": {
      "text/plain": [
       "(20, 21)"
      ]
     },
     "execution_count": 290,
     "metadata": {},
     "output_type": "execute_result"
    }
   ],
   "source": [
    "data.loc[data['waterfront']==1, 'condition'].shape #163\n",
    "data.loc[(data['waterfront']==1) & (data['condition']==1)].shape #1\n",
    "data.loc[(data['waterfront']==1) & (data['condition']==2)].shape #1\n",
    "data.loc[(data['waterfront']==1) & (data['condition']==3)].shape #91\n",
    "data.loc[(data['waterfront']==1) & (data['condition']==4)].shape #50\n",
    "data.loc[(data['waterfront']==1) & (data['condition']==5)].shape #20"
   ]
  },
  {
   "cell_type": "code",
   "execution_count": 291,
   "id": "1d3faa09",
   "metadata": {},
   "outputs": [],
   "source": [
    "# H7 Casas construidas apos os anos 2000 sao mais de 15 porcento mais caras\n",
    "    # Verdadeiro, casas construidas apos os anos 2000 sao 18.78% mais caras"
   ]
  },
  {
   "cell_type": "code",
   "execution_count": 17,
   "id": "d9b41d22",
   "metadata": {},
   "outputs": [
    {
     "data": {
      "text/plain": [
       "18.78968525650886"
      ]
     },
     "execution_count": 17,
     "metadata": {},
     "output_type": "execute_result"
    }
   ],
   "source": [
    "v1= data.loc[data['yr_built']>2000, 'price'].mean() #615314\n",
    "v2= data.loc[data['yr_built']<2000, 'price'].mean() #517986\n",
    "v1*100/v2-100"
   ]
  },
  {
   "cell_type": "code",
   "execution_count": 293,
   "id": "0990ebfd",
   "metadata": {},
   "outputs": [],
   "source": [
    "# H8 Casas renovadas antes de 2010 sao mais caras do que as renovadas apos\n",
    "    # Falso, casas renovadas antes de 2010 sao 20.95% mais baratas"
   ]
  },
  {
   "cell_type": "code",
   "execution_count": 16,
   "id": "06836443",
   "metadata": {},
   "outputs": [
    {
     "data": {
      "text/plain": [
       "20.952892835225086"
      ]
     },
     "execution_count": 16,
     "metadata": {},
     "output_type": "execute_result"
    }
   ],
   "source": [
    "v1= data.loc[data['yr_renovated']<2010, 'price'].mean() #528821.95\n",
    "v2= data.loc[data['yr_renovated']>2010, 'price'].mean() #684674.77\n",
    "v2*100/v1-100"
   ]
  }
 ],
 "metadata": {
  "kernelspec": {
   "display_name": "Python 3 (ipykernel)",
   "language": "python",
   "name": "python3"
  },
  "language_info": {
   "codemirror_mode": {
    "name": "ipython",
    "version": 3
   },
   "file_extension": ".py",
   "mimetype": "text/x-python",
   "name": "python",
   "nbconvert_exporter": "python",
   "pygments_lexer": "ipython3",
   "version": "3.8.10"
  }
 },
 "nbformat": 4,
 "nbformat_minor": 5
}
